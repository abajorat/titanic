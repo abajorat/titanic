{
 "cells": [
  {
   "cell_type": "code",
   "execution_count": 52,
   "metadata": {},
   "outputs": [
    {
     "name": "stdout",
     "output_type": "stream",
     "text": [
      "Defaulting to user installation because normal site-packages is not writeable\n",
      "Collecting evidently\n",
      "  Downloading evidently-0.1.59.dev3-py3-none-any.whl (12.0 MB)\n",
      "\u001b[2K     \u001b[90m━━━━━━━━━━━━━━━━━━━━━━━━━━━━━━━━━━━━━━━━\u001b[0m \u001b[32m12.0/12.0 MB\u001b[0m \u001b[31m11.7 MB/s\u001b[0m eta \u001b[36m0:00:00\u001b[0m00:01\u001b[0m00:01\u001b[0m\n",
      "\u001b[?25hCollecting PyYAML~=5.1\n",
      "  Downloading PyYAML-5.4.1-cp38-cp38-macosx_10_9_x86_64.whl (253 kB)\n",
      "\u001b[2K     \u001b[90m━━━━━━━━━━━━━━━━━━━━━━━━━━━━━━━━━━━━━━━\u001b[0m \u001b[32m253.3/253.3 kB\u001b[0m \u001b[31m7.4 MB/s\u001b[0m eta \u001b[36m0:00:00\u001b[0m\n",
      "\u001b[?25hCollecting statsmodels>=0.12.2\n",
      "  Downloading statsmodels-0.13.5-cp38-cp38-macosx_10_9_x86_64.whl (9.6 MB)\n",
      "\u001b[2K     \u001b[90m━━━━━━━━━━━━━━━━━━━━━━━━━━━━━━━━━━━━━━━━\u001b[0m \u001b[32m9.6/9.6 MB\u001b[0m \u001b[31m12.8 MB/s\u001b[0m eta \u001b[36m0:00:00\u001b[0m00:01\u001b[0m00:01\u001b[0m\n",
      "\u001b[?25hRequirement already satisfied: requests>=2.19.0 in /Users/andrebajorat/Library/Python/3.8/lib/python/site-packages (from evidently) (2.28.1)\n",
      "Requirement already satisfied: numpy>=1.19.5 in /Users/andrebajorat/Library/Python/3.8/lib/python/site-packages (from evidently) (1.23.4)\n",
      "Collecting dataclasses>=0.6\n",
      "  Downloading dataclasses-0.6-py3-none-any.whl (14 kB)\n",
      "Requirement already satisfied: scipy>=1.5.4 in /Users/andrebajorat/Library/Python/3.8/lib/python/site-packages (from evidently) (1.9.3)\n",
      "Requirement already satisfied: pandas>=1.1.5 in /Users/andrebajorat/Library/Python/3.8/lib/python/site-packages (from evidently) (1.5.1)\n",
      "Requirement already satisfied: scikit-learn>=0.24.0 in /Users/andrebajorat/Library/Python/3.8/lib/python/site-packages (from evidently) (1.1.3)\n",
      "Collecting plotly>=5.5.0\n",
      "  Downloading plotly-5.11.0-py2.py3-none-any.whl (15.3 MB)\n",
      "\u001b[2K     \u001b[90m━━━━━━━━━━━━━━━━━━━━━━━━━━━━━━━━━━━━━━━━\u001b[0m \u001b[32m15.3/15.3 MB\u001b[0m \u001b[31m13.6 MB/s\u001b[0m eta \u001b[36m0:00:00\u001b[0m00:01\u001b[0m00:01\u001b[0m\n",
      "\u001b[?25hRequirement already satisfied: python-dateutil>=2.8.1 in /Users/andrebajorat/Library/Python/3.8/lib/python/site-packages (from pandas>=1.1.5->evidently) (2.8.2)\n",
      "Requirement already satisfied: pytz>=2020.1 in /Users/andrebajorat/Library/Python/3.8/lib/python/site-packages (from pandas>=1.1.5->evidently) (2022.6)\n",
      "Collecting tenacity>=6.2.0\n",
      "  Downloading tenacity-8.1.0-py3-none-any.whl (23 kB)\n",
      "Requirement already satisfied: idna<4,>=2.5 in /Users/andrebajorat/Library/Python/3.8/lib/python/site-packages (from requests>=2.19.0->evidently) (3.4)\n",
      "Requirement already satisfied: urllib3<1.27,>=1.21.1 in /Users/andrebajorat/Library/Python/3.8/lib/python/site-packages (from requests>=2.19.0->evidently) (1.26.12)\n",
      "Requirement already satisfied: certifi>=2017.4.17 in /Users/andrebajorat/Library/Python/3.8/lib/python/site-packages (from requests>=2.19.0->evidently) (2022.9.24)\n",
      "Requirement already satisfied: charset-normalizer<3,>=2 in /Users/andrebajorat/Library/Python/3.8/lib/python/site-packages (from requests>=2.19.0->evidently) (2.1.1)\n",
      "Requirement already satisfied: threadpoolctl>=2.0.0 in /Users/andrebajorat/Library/Python/3.8/lib/python/site-packages (from scikit-learn>=0.24.0->evidently) (3.1.0)\n",
      "Requirement already satisfied: joblib>=1.0.0 in /Users/andrebajorat/Library/Python/3.8/lib/python/site-packages (from scikit-learn>=0.24.0->evidently) (1.2.0)\n",
      "Requirement already satisfied: packaging>=21.3 in /Users/andrebajorat/Library/Python/3.8/lib/python/site-packages (from statsmodels>=0.12.2->evidently) (21.3)\n",
      "Collecting patsy>=0.5.2\n",
      "  Downloading patsy-0.5.3-py2.py3-none-any.whl (233 kB)\n",
      "\u001b[2K     \u001b[90m━━━━━━━━━━━━━━━━━━━━━━━━━━━━━━━━━━━━━━━\u001b[0m \u001b[32m233.8/233.8 kB\u001b[0m \u001b[31m7.6 MB/s\u001b[0m eta \u001b[36m0:00:00\u001b[0m\n",
      "\u001b[?25hRequirement already satisfied: pyparsing!=3.0.5,>=2.0.2 in /Users/andrebajorat/Library/Python/3.8/lib/python/site-packages (from packaging>=21.3->statsmodels>=0.12.2->evidently) (3.0.9)\n",
      "Requirement already satisfied: six in /Library/Developer/CommandLineTools/Library/Frameworks/Python3.framework/Versions/3.8/lib/python3.8/site-packages (from patsy>=0.5.2->statsmodels>=0.12.2->evidently) (1.15.0)\n",
      "Installing collected packages: dataclasses, tenacity, PyYAML, patsy, plotly, statsmodels, evidently\n",
      "Successfully installed PyYAML-5.4.1 dataclasses-0.6 evidently-0.1.59.dev3 patsy-0.5.3 plotly-5.11.0 statsmodels-0.13.5 tenacity-8.1.0\n",
      "\n",
      "\u001b[1m[\u001b[0m\u001b[34;49mnotice\u001b[0m\u001b[1;39;49m]\u001b[0m\u001b[39;49m A new release of pip available: \u001b[0m\u001b[31;49m22.2.2\u001b[0m\u001b[39;49m -> \u001b[0m\u001b[32;49m22.3.1\u001b[0m\n",
      "\u001b[1m[\u001b[0m\u001b[34;49mnotice\u001b[0m\u001b[1;39;49m]\u001b[0m\u001b[39;49m To update, run: \u001b[0m\u001b[32;49m/Library/Developer/CommandLineTools/usr/bin/python3 -m pip install --upgrade pip\u001b[0m\n",
      "Note: you may need to restart the kernel to use updated packages.\n"
     ]
    }
   ],
   "source": [
    "%pip install evidently"
   ]
  },
  {
   "cell_type": "code",
   "execution_count": 91,
   "metadata": {},
   "outputs": [
    {
     "name": "stderr",
     "output_type": "stream",
     "text": [
      "/Users/andrebajorat/Library/Python/3.8/lib/python/site-packages/sklearn/base.py:329: UserWarning:\n",
      "\n",
      "Trying to unpickle estimator DecisionTreeRegressor from version 1.0.2 when using version 1.1.3. This might lead to breaking code or invalid results. Use at your own risk. For more info please refer to:\n",
      "https://scikit-learn.org/stable/model_persistence.html#security-maintainability-limitations\n",
      "\n",
      "/Users/andrebajorat/Library/Python/3.8/lib/python/site-packages/sklearn/base.py:329: UserWarning:\n",
      "\n",
      "Trying to unpickle estimator RandomForestRegressor from version 1.0.2 when using version 1.1.3. This might lead to breaking code or invalid results. Use at your own risk. For more info please refer to:\n",
      "https://scikit-learn.org/stable/model_persistence.html#security-maintainability-limitations\n",
      "\n",
      "/Users/andrebajorat/Library/Python/3.8/lib/python/site-packages/evidently/options/data_drift.py:113: UserWarning:\n",
      "\n",
      "DataDriftOptions.feature_stattest_func is deprecated use DataDriftOptions.stattest_func or DataDriftOptions.per_feature_stattest_func.\n",
      "\n",
      "/Users/andrebajorat/Library/Python/3.8/lib/python/site-packages/evidently/options/data_drift.py:113: UserWarning:\n",
      "\n",
      "DataDriftOptions.feature_stattest_func is deprecated use DataDriftOptions.stattest_func or DataDriftOptions.per_feature_stattest_func.\n",
      "\n",
      "/Users/andrebajorat/Library/Python/3.8/lib/python/site-packages/evidently/options/data_drift.py:113: UserWarning:\n",
      "\n",
      "DataDriftOptions.feature_stattest_func is deprecated use DataDriftOptions.stattest_func or DataDriftOptions.per_feature_stattest_func.\n",
      "\n",
      "/Users/andrebajorat/Library/Python/3.8/lib/python/site-packages/evidently/options/data_drift.py:113: UserWarning:\n",
      "\n",
      "DataDriftOptions.feature_stattest_func is deprecated use DataDriftOptions.stattest_func or DataDriftOptions.per_feature_stattest_func.\n",
      "\n",
      "/Users/andrebajorat/Library/Python/3.8/lib/python/site-packages/evidently/options/data_drift.py:113: UserWarning:\n",
      "\n",
      "DataDriftOptions.feature_stattest_func is deprecated use DataDriftOptions.stattest_func or DataDriftOptions.per_feature_stattest_func.\n",
      "\n",
      "/Users/andrebajorat/Library/Python/3.8/lib/python/site-packages/evidently/options/data_drift.py:113: UserWarning:\n",
      "\n",
      "DataDriftOptions.feature_stattest_func is deprecated use DataDriftOptions.stattest_func or DataDriftOptions.per_feature_stattest_func.\n",
      "\n",
      "/Users/andrebajorat/Library/Python/3.8/lib/python/site-packages/evidently/options/data_drift.py:113: UserWarning:\n",
      "\n",
      "DataDriftOptions.feature_stattest_func is deprecated use DataDriftOptions.stattest_func or DataDriftOptions.per_feature_stattest_func.\n",
      "\n",
      "/Users/andrebajorat/Library/Python/3.8/lib/python/site-packages/evidently/options/data_drift.py:113: UserWarning:\n",
      "\n",
      "DataDriftOptions.feature_stattest_func is deprecated use DataDriftOptions.stattest_func or DataDriftOptions.per_feature_stattest_func.\n",
      "\n",
      "/Users/andrebajorat/Library/Python/3.8/lib/python/site-packages/evidently/options/data_drift.py:113: UserWarning:\n",
      "\n",
      "DataDriftOptions.feature_stattest_func is deprecated use DataDriftOptions.stattest_func or DataDriftOptions.per_feature_stattest_func.\n",
      "\n",
      "/Users/andrebajorat/Library/Python/3.8/lib/python/site-packages/evidently/options/data_drift.py:113: UserWarning:\n",
      "\n",
      "DataDriftOptions.feature_stattest_func is deprecated use DataDriftOptions.stattest_func or DataDriftOptions.per_feature_stattest_func.\n",
      "\n",
      "/Users/andrebajorat/Library/Python/3.8/lib/python/site-packages/evidently/options/data_drift.py:113: UserWarning:\n",
      "\n",
      "DataDriftOptions.feature_stattest_func is deprecated use DataDriftOptions.stattest_func or DataDriftOptions.per_feature_stattest_func.\n",
      "\n"
     ]
    }
   ],
   "source": [
    "\n",
    "\n",
    "import sys\n",
    "import os\n",
    "\n",
    "import pandas as pd\n",
    "import joblib\n",
    "from evidently.dashboard import Dashboard\n",
    "from evidently.dashboard.tabs import (\n",
    "    DataDriftTab,\n",
    "    DataQualityTab\n",
    ")\n",
    "from evidently import ColumnMapping\n",
    "from evidently.options.data_drift import DataDriftOptions\n",
    "train = pd.read_csv('data/train.csv')\n",
    "test = pd.read_csv('data/test.csv')\n",
    "prod = pd.read_csv('data/prod.csv')\n",
    "\n",
    "model = joblib.load(\"models/model.sav\")\n",
    "\n",
    "target_train = train[['quality']]\n",
    "train_1 = train.drop(columns=['quality', 'class_prediction', 'reg_prediction'])\n",
    "prod_1 = prod.drop(columns=['quality', 'class_prediction', 'reg_prediction'])\n",
    "options = DataDriftOptions(feature_stattest_func=\"ks\")\n",
    "\n",
    "dashboard = Dashboard(tabs=[DataQualityTab(), DataDriftTab()], options=[options])\n",
    "dashboard.calculate(train_1, prod_1)\n",
    "dashboard.save(\"reports/data_quality_drift_raw.html\")\n",
    "\n"
   ]
  },
  {
   "cell_type": "code",
   "execution_count": 92,
   "metadata": {},
   "outputs": [],
   "source": [
    "\n",
    "\n",
    "from evidently.dashboard.tabs import NumTargetDriftTab\n",
    "from evidently.dashboard.tabs import RegressionPerformanceTab\n",
    "\n",
    "column_mapping = ColumnMapping(target='quality', prediction='reg_prediction')\n",
    "test_2 = test.drop(columns=['class_prediction'])\n",
    "prod_2 = prod.drop(columns=['class_prediction'])\n",
    "data_and_target_drift_report = Dashboard(tabs=[NumTargetDriftTab(), RegressionPerformanceTab(verbose_level=1)])\n",
    "data_and_target_drift_report.calculate(test_2, prod_2, column_mapping = column_mapping)\n",
    "data_and_target_drift_report.save(\"reports/regression.html\")\n",
    "\n"
   ]
  },
  {
   "cell_type": "code",
   "execution_count": 93,
   "metadata": {},
   "outputs": [
    {
     "name": "stderr",
     "output_type": "stream",
     "text": [
      "/Users/andrebajorat/Library/Python/3.8/lib/python/site-packages/sklearn/metrics/_classification.py:1334: UndefinedMetricWarning:\n",
      "\n",
      "Precision and F-score are ill-defined and being set to 0.0 in labels with no predicted samples. Use `zero_division` parameter to control this behavior.\n",
      "\n",
      "/Users/andrebajorat/Library/Python/3.8/lib/python/site-packages/sklearn/metrics/_classification.py:1334: UndefinedMetricWarning:\n",
      "\n",
      "Precision and F-score are ill-defined and being set to 0.0 in labels with no predicted samples. Use `zero_division` parameter to control this behavior.\n",
      "\n",
      "/Users/andrebajorat/Library/Python/3.8/lib/python/site-packages/sklearn/metrics/_classification.py:1334: UndefinedMetricWarning:\n",
      "\n",
      "Precision and F-score are ill-defined and being set to 0.0 in labels with no predicted samples. Use `zero_division` parameter to control this behavior.\n",
      "\n",
      "/Users/andrebajorat/Library/Python/3.8/lib/python/site-packages/sklearn/metrics/_classification.py:1334: UndefinedMetricWarning:\n",
      "\n",
      "Precision and F-score are ill-defined and being set to 0.0 in labels with no predicted samples. Use `zero_division` parameter to control this behavior.\n",
      "\n",
      "/Users/andrebajorat/Library/Python/3.8/lib/python/site-packages/sklearn/metrics/_classification.py:1334: UndefinedMetricWarning:\n",
      "\n",
      "Precision and F-score are ill-defined and being set to 0.0 in labels with no predicted samples. Use `zero_division` parameter to control this behavior.\n",
      "\n",
      "/Users/andrebajorat/Library/Python/3.8/lib/python/site-packages/sklearn/metrics/_classification.py:1334: UndefinedMetricWarning:\n",
      "\n",
      "Precision and F-score are ill-defined and being set to 0.0 in labels with no predicted samples. Use `zero_division` parameter to control this behavior.\n",
      "\n"
     ]
    }
   ],
   "source": [
    "\n",
    "\n",
    "from evidently.dashboard.tabs import CatTargetDriftTab\n",
    "from evidently.dashboard.tabs import ClassificationPerformanceTab\n",
    "\n",
    "column_mapping = ColumnMapping(target='quality', prediction='class_prediction')\n",
    "test_3 = test.drop(columns=['reg_prediction'])\n",
    "prod_3 = prod.drop(columns=['reg_prediction'])\n",
    "data_and_target_drift_report = Dashboard(tabs=[CatTargetDriftTab(), ClassificationPerformanceTab()])\n",
    "data_and_target_drift_report.calculate(test_3, prod_3, column_mapping = column_mapping)\n",
    "data_and_target_drift_report.save(\"reports/classification.html\")"
   ]
  }
 ],
 "metadata": {
  "kernelspec": {
   "display_name": "Python 3.8.2 64-bit",
   "language": "python",
   "name": "python3"
  },
  "language_info": {
   "codemirror_mode": {
    "name": "ipython",
    "version": 3
   },
   "file_extension": ".py",
   "mimetype": "text/x-python",
   "name": "python",
   "nbconvert_exporter": "python",
   "pygments_lexer": "ipython3",
   "version": "3.8.2"
  },
  "orig_nbformat": 4,
  "vscode": {
   "interpreter": {
    "hash": "31f2aee4e71d21fbe5cf8b01ff0e069b9275f58929596ceb00d14d90e3e16cd6"
   }
  }
 },
 "nbformat": 4,
 "nbformat_minor": 2
}
