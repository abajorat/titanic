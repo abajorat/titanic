{
 "cells": [
  {
   "cell_type": "code",
   "execution_count": 5,
   "metadata": {},
   "outputs": [
    {
     "name": "stdout",
     "output_type": "stream",
     "text": [
      "Defaulting to user installation because normal site-packages is not writeable\n",
      "Collecting xlrd\n",
      "  Downloading xlrd-2.0.1-py2.py3-none-any.whl (96 kB)\n",
      "\u001b[2K     \u001b[90m━━━━━━━━━━━━━━━━━━━━━━━━━━━━━━━━━━━━━━━━\u001b[0m \u001b[32m96.5/96.5 kB\u001b[0m \u001b[31m1.4 MB/s\u001b[0m eta \u001b[36m0:00:00\u001b[0ma \u001b[36m0:00:01\u001b[0m\n",
      "\u001b[?25hInstalling collected packages: xlrd\n",
      "Successfully installed xlrd-2.0.1\n",
      "\n",
      "\u001b[1m[\u001b[0m\u001b[34;49mnotice\u001b[0m\u001b[1;39;49m]\u001b[0m\u001b[39;49m A new release of pip available: \u001b[0m\u001b[31;49m22.2.2\u001b[0m\u001b[39;49m -> \u001b[0m\u001b[32;49m22.3.1\u001b[0m\n",
      "\u001b[1m[\u001b[0m\u001b[34;49mnotice\u001b[0m\u001b[1;39;49m]\u001b[0m\u001b[39;49m To update, run: \u001b[0m\u001b[32;49m/Library/Developer/CommandLineTools/usr/bin/python3 -m pip install --upgrade pip\u001b[0m\n",
      "Note: you may need to restart the kernel to use updated packages.\n"
     ]
    }
   ],
   "source": [
    "%pip install xlrd"
   ]
  },
  {
   "cell_type": "code",
   "execution_count": 2,
   "metadata": {},
   "outputs": [],
   "source": [
    "\n",
    "\n",
    "import sys\n",
    "import os\n",
    "\n",
    "import pandas as pd\n",
    "\n",
    "\n",
    "from evidently.dashboard.tabs import NumTargetDriftTab\n",
    "from evidently.dashboard.tabs import RegressionPerformanceTab\n",
    "\n",
    "\n",
    "from evidently.dashboard.tabs import CatTargetDriftTab\n",
    "from evidently.dashboard.tabs import ClassificationPerformanceTab\n",
    "import joblib\n",
    "from evidently.dashboard import Dashboard\n",
    "from evidently.dashboard.tabs import (\n",
    "    DataDriftTab,\n",
    "    DataQualityTab\n",
    ")\n",
    "from evidently import ColumnMapping\n",
    "from evidently.options.data_drift import DataDriftOptions\n",
    "import numpy as np"
   ]
  },
  {
   "cell_type": "code",
   "execution_count": 23,
   "metadata": {},
   "outputs": [],
   "source": [
    "# https://www.kaggle.com/datasets/kandij/diabetes-dataset\n",
    "diabetes = pd.read_csv('~/Downloads/diabetes2.csv')\n",
    "diabetes_ref = diabetes[:568]\n",
    "diabetes_test1 = diabetes[568:668].reset_index(drop=True)\n",
    "diabetes_test2 = diabetes[668:].reset_index(drop=True)\n",
    "mu, sigma = 3, 1\n",
    "noise = np.random.normal(mu, sigma, [100,9])\n",
    "noise[:, -1] =0 \n",
    "diabetes_test1 = diabetes_test1 + noise\n",
    "diabetes_ref.to_csv('tarea/diabetes_ref.csv')\n",
    "diabetes_test1.to_csv('tarea/diabetes_test1.csv')\n",
    "diabetes_test2.to_csv('tarea/diabetes_test2.csv')"
   ]
  },
  {
   "cell_type": "code",
   "execution_count": 24,
   "metadata": {},
   "outputs": [],
   "source": [
    "\n",
    "dashboard = Dashboard(tabs=[ DataQualityTab(), DataDriftTab()])\n",
    "dashboard.calculate(diabetes_ref, diabetes_test1)\n",
    "dashboard.save(\"reports/diabetes1.html\")\n",
    "dashboard.calculate(diabetes_ref, diabetes_test2)\n",
    "dashboard.save(\"reports/diabetes2.html\")"
   ]
  },
  {
   "cell_type": "code",
   "execution_count": 25,
   "metadata": {},
   "outputs": [],
   "source": [
    "import random\n",
    "from sklearn.model_selection import train_test_split\n",
    "# https://www.kaggle.com/datasets/prathamtripathi/co2-emissions-by-cars-in-canada\n",
    "emissions = pd.read_csv('~/Downloads/Sample.csv')\n",
    "emissions.columns.values[8] = 'FUEL_CONSUMPTION'\n",
    "emissions.columns.values[9] = 'Additional_Fuel_Consumption_1'\n",
    "emissions.columns.values[10] = 'Additional_Fuel_Consumption_2'\n",
    "emissions.columns.values[11] = 'Additional_Fuel_Consumption_3'\n",
    "emissions_ref, emissions_test = train_test_split(emissions, test_size=0.3)\n",
    "emissions_test1, emissions_test2 = train_test_split(emissions_test, test_size=0.5)\n",
    "emissions_test1 = emissions_test1.reset_index(drop=True)\n",
    "emissions_test2 = emissions_test2.reset_index(drop=True)\n",
    "\n",
    "emissions_test2.CO2_EMISSIONS = [random.uniform(100, 500) for _ in range(102)]\n",
    "emissions_ref.to_csv('tarea/emissions_ref.csv')\n",
    "emissions_test1.to_csv('tarea/emissions_test1.csv')\n",
    "emissions_test2.to_csv('tarea/emissions_test2.csv')"
   ]
  },
  {
   "cell_type": "code",
   "execution_count": 26,
   "metadata": {},
   "outputs": [],
   "source": [
    "\n",
    "column_mapping = ColumnMapping(target='CO2_EMISSIONS')\n",
    "dashboard = Dashboard(tabs=[DataQualityTab(), DataDriftTab(), NumTargetDriftTab()])\n",
    "dashboard.calculate(emissions_ref, emissions_test1, column_mapping = column_mapping)\n",
    "dashboard.save(\"reports/emissions1.html\")\n",
    "dashboard.calculate(emissions_ref, emissions_test2, column_mapping = column_mapping)\n",
    "dashboard.save(\"reports/emissions2.html\")"
   ]
  },
  {
   "cell_type": "code",
   "execution_count": 5,
   "metadata": {},
   "outputs": [],
   "source": [
    "# https://www.kaggle.com/datasets/yasserh/breast-cancer-dataset\n",
    "import random\n",
    "from sklearn.model_selection import train_test_split\n",
    "breast = pd.read_csv('~/Downloads/breast-cancer.xls')\n",
    "breast = breast.drop(columns=['id'])\n",
    "\n",
    "breast_ref, breast_test = train_test_split(breast, test_size=0.3)\n",
    "breast_test1, breast_test2 = train_test_split(breast_test, test_size=0.5)\n",
    "breast_test1 = breast_test1.reset_index(drop=True)\n",
    "breast_test2 = breast_test2.reset_index(drop=True)\n",
    "\n",
    "breast_test1.diagnosis = [random.choice(['B', 'M']) for _ in range(len(breast_test1))]\n",
    "breast_ref.to_csv('tarea/breast_ref.csv')\n",
    "breast_test1.to_csv('tarea/breast_test1.csv')\n",
    "breast_test2.to_csv('tarea/breast_test2.csv')\n",
    "\n"
   ]
  },
  {
   "cell_type": "code",
   "execution_count": 6,
   "metadata": {},
   "outputs": [],
   "source": [
    "\n",
    "column_mapping = ColumnMapping(target='diagnosis')\n",
    "dashboard = Dashboard(tabs=[DataQualityTab(), DataDriftTab(), CatTargetDriftTab()])\n",
    "dashboard.calculate(breast_ref, breast_test1, column_mapping = column_mapping)\n",
    "dashboard.save(\"reports/breast1.html\")\n",
    "dashboard.calculate(breast_ref, breast_test2, column_mapping = column_mapping)\n",
    "dashboard.save(\"reports/breast2.html\")"
   ]
  },
  {
   "cell_type": "code",
   "execution_count": 13,
   "metadata": {},
   "outputs": [],
   "source": [
    "# https://www.kaggle.com/datasets/yasserh/music-cancer-dataset\n",
    "import random\n",
    "from sklearn.model_selection import train_test_split\n",
    "music = pd.read_csv('~/Downloads/archive/train.csv')\n",
    "music.drop(columns=['Artist Name', 'Track Name'], inplace=True)\n",
    "music_ref, music_test = train_test_split(music, test_size=0.3)\n",
    "music_test1, music_test2 = train_test_split(music_test, test_size=0.5)\n",
    "music_test1 = music_test1.reset_index(drop=True)\n",
    "music_test2 = music_test2.reset_index(drop=True)\n",
    "\n",
    "mu, sigma = 3, 1\n",
    "noise = np.random.normal(mu, sigma, [2699,15])\n",
    "noise[:, -1] =0 \n",
    "music_test1 = music_test1 + noise\n",
    "music_ref.to_csv('tarea/music_ref.csv')\n",
    "music_test1.to_csv('tarea/music_test1.csv')\n",
    "music_test2.to_csv('tarea/music_test2.csv')\n"
   ]
  },
  {
   "cell_type": "code",
   "execution_count": 14,
   "metadata": {},
   "outputs": [],
   "source": [
    "\n",
    "dashboard = Dashboard(tabs=[ DataQualityTab(), DataDriftTab()])\n",
    "dashboard.calculate(music_ref, music_test1)\n",
    "dashboard.save(\"reports/music1.html\")\n",
    "dashboard.calculate(music_ref, music_test2)\n",
    "dashboard.save(\"reports/music2.html\")"
   ]
  },
  {
   "cell_type": "code",
   "execution_count": null,
   "metadata": {},
   "outputs": [],
   "source": []
  }
 ],
 "metadata": {
  "kernelspec": {
   "display_name": "Python 3.8.2 64-bit",
   "language": "python",
   "name": "python3"
  },
  "language_info": {
   "codemirror_mode": {
    "name": "ipython",
    "version": 3
   },
   "file_extension": ".py",
   "mimetype": "text/x-python",
   "name": "python",
   "nbconvert_exporter": "python",
   "pygments_lexer": "ipython3",
   "version": "3.8.2"
  },
  "orig_nbformat": 4,
  "vscode": {
   "interpreter": {
    "hash": "31f2aee4e71d21fbe5cf8b01ff0e069b9275f58929596ceb00d14d90e3e16cd6"
   }
  }
 },
 "nbformat": 4,
 "nbformat_minor": 2
}
